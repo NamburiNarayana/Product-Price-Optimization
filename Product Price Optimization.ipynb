{
  "nbformat": 4,
  "nbformat_minor": 0,
  "metadata": {
    "colab": {
      "name": "Untitled41.ipynb",
      "provenance": [],
      "collapsed_sections": []
    },
    "kernelspec": {
      "name": "python3",
      "display_name": "Python 3"
    },
    "language_info": {
      "name": "python"
    }
  },
  "cells": [
    {
      "cell_type": "code",
      "metadata": {
        "id": "p1C06T76BUHx"
      },
      "source": [
        "#NumPy is a basic level external library in Python used for complex mathematical operations\n",
        "import numpy as np\n",
        "#pandas is a fast, powerful, flexible and easy to use open source data analysis and manipulation tool, built on top of the Python programming language\n",
        "import pandas as pd\n",
        "#A Data frame is a two-dimensional data structure, i.e., data is aligned in a tabular fashion in rows and columns\n",
        "from pandas import DataFrame\n",
        "#matplotlib.pyplot is a collection of functions that make matplotlib work like MATLAB\n",
        "import matplotlib.pyplot as plt\n",
        "#Seaborn is a Python data visualization library based on matplotlib\n",
        "import seaborn as sns\n",
        "#statsmodels is a Python module that provides classes and functions for the estimation of many different statistical models\n",
        "from statsmodels.formula.api import ols"
      ],
      "execution_count": 5,
      "outputs": []
    },
    {
      "cell_type": "code",
      "metadata": {
        "colab": {
          "base_uri": "https://localhost:8080/",
          "height": 204
        },
        "id": "yGQz1zMN4Heg",
        "outputId": "06217710-af39-4637-d46f-ce7b0a6e7ef7"
      },
      "source": [
        "# loading dataset\n",
        "#. is used to call the function of its type\n",
        "data = pd.read_csv('data.csv')\n",
        "# view first few rows\n",
        "data.head(5)"
      ],
      "execution_count": 6,
      "outputs": [
        {
          "output_type": "execute_result",
          "data": {
            "text/html": [
              "<div>\n",
              "<style scoped>\n",
              "    .dataframe tbody tr th:only-of-type {\n",
              "        vertical-align: middle;\n",
              "    }\n",
              "\n",
              "    .dataframe tbody tr th {\n",
              "        vertical-align: top;\n",
              "    }\n",
              "\n",
              "    .dataframe thead th {\n",
              "        text-align: right;\n",
              "    }\n",
              "</style>\n",
              "<table border=\"1\" class=\"dataframe\">\n",
              "  <thead>\n",
              "    <tr style=\"text-align: right;\">\n",
              "      <th></th>\n",
              "      <th>Year</th>\n",
              "      <th>Quarter</th>\n",
              "      <th>Quantity</th>\n",
              "      <th>Price</th>\n",
              "    </tr>\n",
              "  </thead>\n",
              "  <tbody>\n",
              "    <tr>\n",
              "      <th>0</th>\n",
              "      <td>1977</td>\n",
              "      <td>1</td>\n",
              "      <td>22.9976</td>\n",
              "      <td>142.1667</td>\n",
              "    </tr>\n",
              "    <tr>\n",
              "      <th>1</th>\n",
              "      <td>1977</td>\n",
              "      <td>2</td>\n",
              "      <td>22.6131</td>\n",
              "      <td>143.9333</td>\n",
              "    </tr>\n",
              "    <tr>\n",
              "      <th>2</th>\n",
              "      <td>1977</td>\n",
              "      <td>3</td>\n",
              "      <td>23.4054</td>\n",
              "      <td>146.5000</td>\n",
              "    </tr>\n",
              "    <tr>\n",
              "      <th>3</th>\n",
              "      <td>1977</td>\n",
              "      <td>4</td>\n",
              "      <td>22.7401</td>\n",
              "      <td>150.8000</td>\n",
              "    </tr>\n",
              "    <tr>\n",
              "      <th>4</th>\n",
              "      <td>1978</td>\n",
              "      <td>1</td>\n",
              "      <td>22.0441</td>\n",
              "      <td>160.0000</td>\n",
              "    </tr>\n",
              "  </tbody>\n",
              "</table>\n",
              "</div>"
            ],
            "text/plain": [
              "   Year  Quarter  Quantity     Price\n",
              "0  1977        1   22.9976  142.1667\n",
              "1  1977        2   22.6131  143.9333\n",
              "2  1977        3   23.4054  146.5000\n",
              "3  1977        4   22.7401  150.8000\n",
              "4  1978        1   22.0441  160.0000"
            ]
          },
          "metadata": {
            "tags": []
          },
          "execution_count": 6
        }
      ]
    },
    {
      "cell_type": "code",
      "metadata": {
        "colab": {
          "base_uri": "https://localhost:8080/"
        },
        "id": "c1tetUUdYhv2",
        "outputId": "9cd74f16-7c3f-4255-94db-ab7cc06b0ea5"
      },
      "source": [
        "#set the figure size to the given x and y\n",
        "plt.rcParams['figure.figsize']=(20.0,10.0)\n",
        "#returns no of rows and columns\n",
        "print(data.shape)"
      ],
      "execution_count": 7,
      "outputs": [
        {
          "output_type": "stream",
          "text": [
            "(91, 4)\n"
          ],
          "name": "stdout"
        }
      ]
    },
    {
      "cell_type": "code",
      "metadata": {
        "id": "tlk8EWwnZR9r"
      },
      "source": [
        "#loading all the price values to x\n",
        "x=data['Price'].values\n",
        "#loading all the Quantity values to y\n",
        "y=data['Quantity'].values"
      ],
      "execution_count": 8,
      "outputs": []
    },
    {
      "cell_type": "code",
      "metadata": {
        "id": "TjDYlM9mZnUn"
      },
      "source": [
        "#finding the mean of x values\n",
        "mean_x=np.mean(x)\n",
        "#finding the mean of y values\n",
        "mean_y=np.mean(y)"
      ],
      "execution_count": 9,
      "outputs": []
    },
    {
      "cell_type": "code",
      "metadata": {
        "id": "Ypuw2a9BZvMf"
      },
      "source": [
        "#storing the length of the vlues of the given data\n",
        "n=len(x)"
      ],
      "execution_count": 10,
      "outputs": []
    },
    {
      "cell_type": "code",
      "metadata": {
        "colab": {
          "base_uri": "https://localhost:8080/"
        },
        "id": "DZqOwfWJZy2D",
        "outputId": "6be362b8-cffd-423e-b049-83d78a99fb86"
      },
      "source": [
        "#intitializing the required variables numer and denom of slope\n",
        "numer=0\n",
        "denom=0\n",
        "#for loop to find the slope value of the best fit line\n",
        "for i in range(n):\n",
        "#numerators and denominators for the slope updating\n",
        "  numer += (x[i]-mean_x)*(y[i]-mean_y)\n",
        "  denom += (x[i]-mean_x)**2\n",
        "#finding the slope\n",
        "m=numer/denom\n",
        "#finding the y_intercept of the best line\n",
        "c=mean_y-(m*mean_x)\n",
        "print(c)"
      ],
      "execution_count": 11,
      "outputs": [
        {
          "output_type": "stream",
          "text": [
            "30.051485828783257\n"
          ],
          "name": "stdout"
        }
      ]
    },
    {
      "cell_type": "code",
      "metadata": {
        "id": "ZbBp4dr0aStR"
      },
      "source": [
        "#limits for the x\n",
        "max_x=np.max(x)+100\n",
        "min_x=np.min(x)-100"
      ],
      "execution_count": 12,
      "outputs": []
    },
    {
      "cell_type": "code",
      "metadata": {
        "id": "Qak8qbcWbVZf"
      },
      "source": [
        "#storing all the x values of given number\n",
        "x=np.linspace(min_x,max_x,1000)\n",
        "#finding y for the x\n",
        "y=c+m*x"
      ],
      "execution_count": 13,
      "outputs": []
    },
    {
      "cell_type": "code",
      "metadata": {
        "colab": {
          "base_uri": "https://localhost:8080/",
          "height": 606
        },
        "id": "S6-vl19zbgwG",
        "outputId": "a66118c0-78b4-481a-8a2a-f6571aa12a35"
      },
      "source": [
        "#plotting the best fit line\n",
        "plt.plot(x,y,color='red',label='Regression Line')\n",
        "#plotting the scatter plot of the x and y\n",
        "plt.scatter(data['Price'],data['Quantity'],color='blue',label='Scatter Plot',marker='o')\n",
        "#labeling the axis x and y\n",
        "plt.xlabel('Price')\n",
        "plt.ylabel('Quantity')\n",
        "plt.legend()\n",
        "#to display the graph\n",
        "plt.show()"
      ],
      "execution_count": 14,
      "outputs": [
        {
          "output_type": "display_data",
          "data": {
            "image/png": "[encoded data removed]",
            "text/plain": [
              "<Figure size 1440x720 with 1 Axes>"
            ]
          },
          "metadata": {
            "tags": [],
            "needs_background": "light"
          }
        }
      ]
    },
    {
      "cell_type": "code",
      "metadata": {
        "colab": {
          "base_uri": "https://localhost:8080/"
        },
        "id": "pp4w4VQphClM",
        "outputId": "fa4c7af9-3dd5-4f85-d57b-c97ba96f8d8d"
      },
      "source": [
        "#to get root mean squared error\n",
        "#initializing all the required variables with required values\n",
        "x=data['Price'].values\n",
        "y=data['Quantity'].values\n",
        "n=len(x)\n",
        "rmse=0\n",
        "#for loop to get root mean squared error\n",
        "for i in range(n):\n",
        "  y_pred=c+m*x[i]\n",
        "  rmse += (y[i]-y_pred)**2\n",
        "rmse=np.sqrt(rmse/n)\n",
        "print(rmse)"
      ],
      "execution_count": 16,
      "outputs": [
        {
          "output_type": "stream",
          "text": [
            "0.5670175020351357\n"
          ],
          "name": "stdout"
        }
      ]
    },
    {
      "cell_type": "code",
      "metadata": {
        "colab": {
          "base_uri": "https://localhost:8080/"
        },
        "id": "DmoydsDPjX5c",
        "outputId": "2cc43dbe-7e67-4927-9d98-699edae34fd0"
      },
      "source": [
        "#this is to get r2 value\n",
        "#initialaizing all the required variables\n",
        "ss_tot = 0\n",
        "ss_res =0\n",
        "#for loop to find r2 error\n",
        "for i in range(n):\n",
        "  y_pred=c+m*x[i]\n",
        "  ss_tot +=(y[i]-mean_y)**2\n",
        "  ss_res +=(y[i]-y_pred)**2\n",
        "r2=1-(ss_res/ss_tot)\n",
        "print(r2)"
      ],
      "execution_count": null,
      "outputs": [
        {
          "output_type": "stream",
          "text": [
            "0.9011374621660582\n"
          ],
          "name": "stdout"
        }
      ]
    },
    {
      "cell_type": "code",
      "metadata": {
        "colab": {
          "base_uri": "https://localhost:8080/",
          "height": 353
        },
        "id": "okJdynWwkTWW",
        "outputId": "e71a4263-6c98-4cce-d49a-016c44906ed8"
      },
      "source": [
        "#giving the price values to predict the best with high revenue\n",
        "Price = [320, 330, 340, 350, 360, 370, 380, 390]\n",
        "#giving the cost of the product \n",
        "cost = 80\n",
        "#list to update all the revenues for different prices\n",
        "Revenue = []\n",
        "#for loop to update all the revenues\n",
        "for i in Price:\n",
        "  #finding the quantity from trained model by giving the price\n",
        "   quantity_demanded = c + m * i \n",
        "  #appending the revenue values by applying revenue formulae\n",
        "   Revenue.append((i-cost) * quantity_demanded)\n",
        "#storing the revenue and corresponding price in the data frame\n",
        "profit = pd.DataFrame({\"Price\": Price, \"Revenue\": Revenue})\n",
        "#plotting the graph of price and revenue\n",
        "plt.plot(profit[\"Price\"], profit[\"Revenue\"])\n"
      ],
      "execution_count": null,
      "outputs": [
        {
          "output_type": "execute_result",
          "data": {
            "text/plain": [
              "[<matplotlib.lines.Line2D at 0x7fcb47271090>]"
            ]
          },
          "metadata": {
            "tags": []
          },
          "execution_count": 86
        },
        {
          "output_type": "display_data",
          "data": {
            "image/png": "[encoded data removed]",
            "text/plain": [
              "<Figure size 1440x720 with 1 Axes>"
            ]
          },
          "metadata": {
            "tags": [],
            "needs_background": "light"
          }
        }
      ]
    },
    {
      "cell_type": "code",
      "metadata": {
        "colab": {
          "base_uri": "https://localhost:8080/",
          "height": 77
        },
        "id": "s7ByWGUvlCWC",
        "outputId": "28aaccd5-07ae-4d65-c684-7f57416aba4d"
      },
      "source": [
        "#finding the maximum revenue giving price\n",
        "profit[profit['Revenue'] == profit['Revenue'].max()]"
      ],
      "execution_count": null,
      "outputs": [
        {
          "output_type": "execute_result",
          "data": {
            "text/html": [
              "<div>\n",
              "<style scoped>\n",
              "    .dataframe tbody tr th:only-of-type {\n",
              "        vertical-align: middle;\n",
              "    }\n",
              "\n",
              "    .dataframe tbody tr th {\n",
              "        vertical-align: top;\n",
              "    }\n",
              "\n",
              "    .dataframe thead th {\n",
              "        text-align: right;\n",
              "    }\n",
              "</style>\n",
              "<table border=\"1\" class=\"dataframe\">\n",
              "  <thead>\n",
              "    <tr style=\"text-align: right;\">\n",
              "      <th></th>\n",
              "      <th>Price</th>\n",
              "      <th>Revenue</th>\n",
              "    </tr>\n",
              "  </thead>\n",
              "  <tbody>\n",
              "    <tr>\n",
              "      <th>4</th>\n",
              "      <td>360</td>\n",
              "      <td>3726.12794</td>\n",
              "    </tr>\n",
              "  </tbody>\n",
              "</table>\n",
              "</div>"
            ],
            "text/plain": [
              "   Price     Revenue\n",
              "4    360  3726.12794"
            ]
          },
          "metadata": {
            "tags": []
          },
          "execution_count": 87
        }
      ]
    },
    {
      "cell_type": "markdown",
      "metadata": {
        "id": "ME86HI-lEJ_I"
      },
      "source": [
        "#Inbuilt Method To apply ols method"
      ]
    },
    {
      "cell_type": "code",
      "metadata": {
        "colab": {
          "base_uri": "https://localhost:8080/",
          "height": 362
        },
        "id": "KhaUr3sGCJxA",
        "outputId": "fd63786c-a38a-4dd9-d701-0d2894d37ad5"
      },
      "source": [
        "# Inbuilt python  graph method that draws the best fit line in the data\n",
        "sns.lmplot(x = \"Price\", y = \"Quantity\", data = data, size = 4)"
      ],
      "execution_count": 17,
      "outputs": [
        {
          "output_type": "stream",
          "text": [
            "/usr/local/lib/python3.7/dist-packages/seaborn/regression.py:580: UserWarning: The `size` parameter has been renamed to `height`; please update your code.\n",
            "  warnings.warn(msg, UserWarning)\n"
          ],
          "name": "stderr"
        },
        {
          "output_type": "execute_result",
          "data": {
            "text/plain": [
              "<seaborn.axisgrid.FacetGrid at 0x7f2bdd1e2b50>"
            ]
          },
          "metadata": {
            "tags": []
          },
          "execution_count": 17
        },
        {
          "output_type": "display_data",
          "data": {
            "image/png": "[encoded data removed]",
            "text/plain": [
              "<Figure size 288x288 with 1 Axes>"
            ]
          },
          "metadata": {
            "tags": [],
            "needs_background": "light"
          }
        }
      ]
    },
    {
      "cell_type": "code",
      "metadata": {
        "colab": {
          "base_uri": "https://localhost:8080/"
        },
        "id": "X0rbtHXLCYWj",
        "outputId": "b70b5358-1ad7-4374-d14a-6e3c4243960d"
      },
      "source": [
        "# fit OLS model\n",
        "model = ols(\"Quantity ~ Price\", data = data).fit()\n",
        "# print model summary\n",
        "print(model.summary())"
      ],
      "execution_count": null,
      "outputs": [
        {
          "output_type": "stream",
          "text": [
            "                            OLS Regression Results                            \n",
            "==============================================================================\n",
            "Dep. Variable:               Quantity   R-squared:                       0.901\n",
            "Model:                            OLS   Adj. R-squared:                  0.900\n",
            "Method:                 Least Squares   F-statistic:                     811.2\n",
            "Date:                Thu, 20 May 2021   Prob (F-statistic):           1.69e-46\n",
            "Time:                        07:53:08   Log-Likelihood:                -77.493\n",
            "No. Observations:                  91   AIC:                             159.0\n",
            "Df Residuals:                      89   BIC:                             164.0\n",
            "Df Model:                           1                                         \n",
            "Covariance Type:            nonrobust                                         \n",
            "==============================================================================\n",
            "                 coef    std err          t      P>|t|      [0.025      0.975]\n",
            "------------------------------------------------------------------------------\n",
            "Intercept     30.0515      0.413     72.701      0.000      29.230      30.873\n",
            "Price         -0.0465      0.002    -28.482      0.000      -0.050      -0.043\n",
            "==============================================================================\n",
            "Omnibus:                        3.453   Durbin-Watson:                   1.533\n",
            "Prob(Omnibus):                  0.178   Jarque-Bera (JB):                2.460\n",
            "Skew:                           0.237   Prob(JB):                        0.292\n",
            "Kurtosis:                       2.349   Cond. No.                     1.74e+03\n",
            "==============================================================================\n",
            "\n",
            "Warnings:\n",
            "[1] Standard Errors assume that the covariance matrix of the errors is correctly specified.\n",
            "[2] The condition number is large, 1.74e+03. This might indicate that there are\n",
            "strong multicollinearity or other numerical problems.\n"
          ],
          "name": "stdout"
        }
      ]
    },
    {
      "cell_type": "code",
      "metadata": {
        "id": "y4wK9JRgCaNP"
      },
      "source": [
        "# plugging regression coefficients\n",
        "quantity = 30.05 - 0.0465  # eq (5)\n",
        "# the profit function in eq (3) becomes\n",
        "profit = (30.05 - 0.0465 )  # eq (6)"
      ],
      "execution_count": null,
      "outputs": []
    },
    {
      "cell_type": "code",
      "metadata": {
        "colab": {
          "base_uri": "https://localhost:8080/",
          "height": 298
        },
        "id": "ApVOwhCPCfX5",
        "outputId": "80ac17c2-43d7-44fe-9405-11bda094c277"
      },
      "source": [
        "# a range of diffferent prices to find the optimum one\n",
        "Price = [320, 330, 340, 350, 360, 370, 380, 390]\n",
        "# assuming a fixed cost\n",
        "cost = 80\n",
        "Revenue = []\n",
        "for i in Price:\n",
        "   quantity_demanded = 30.05 - 0.0465 * i\n",
        "   \n",
        "   # profit function\n",
        "   Revenue.append((i-cost) * quantity_demanded)\n",
        "# create data frame of price and revenue\n",
        "profit = pd.DataFrame({\"Price\": Price, \"Revenue\": Revenue})\n",
        "#plot revenue against price\n",
        "plt.plot(profit[\"Price\"], profit[\"Revenue\"])\n"
      ],
      "execution_count": null,
      "outputs": [
        {
          "output_type": "stream",
          "text": [
            "[3640.8, 3676.25, 3702.4, 3719.2500000000005, 3726.8000000000006, 3725.0500000000006, 3714.000000000001, 3693.6499999999996]\n"
          ],
          "name": "stdout"
        },
        {
          "output_type": "execute_result",
          "data": {
            "text/plain": [
              "[<matplotlib.lines.Line2D at 0x7fcb4ca49990>]"
            ]
          },
          "metadata": {
            "tags": []
          },
          "execution_count": 15
        },
        {
          "output_type": "display_data",
          "data": {
            "image/png": "[encoded data removed]",
            "text/plain": [
              "<Figure size 432x288 with 1 Axes>"
            ]
          },
          "metadata": {
            "tags": [],
            "needs_background": "light"
          }
        }
      ]
    },
    {
      "cell_type": "code",
      "metadata": {
        "colab": {
          "base_uri": "https://localhost:8080/",
          "height": 77
        },
        "id": "jghFHgKoEqHH",
        "outputId": "1417cd32-1c74-4ba0-8bc5-0b112f6eb8a9"
      },
      "source": [
        "# price at which revenue is maximum\n",
        "profit[profit['Revenue'] == profit['Revenue'].max()]"
      ],
      "execution_count": null,
      "outputs": [
        {
          "output_type": "execute_result",
          "data": {
            "text/html": [
              "<div>\n",
              "<style scoped>\n",
              "    .dataframe tbody tr th:only-of-type {\n",
              "        vertical-align: middle;\n",
              "    }\n",
              "\n",
              "    .dataframe tbody tr th {\n",
              "        vertical-align: top;\n",
              "    }\n",
              "\n",
              "    .dataframe thead th {\n",
              "        text-align: right;\n",
              "    }\n",
              "</style>\n",
              "<table border=\"1\" class=\"dataframe\">\n",
              "  <thead>\n",
              "    <tr style=\"text-align: right;\">\n",
              "      <th></th>\n",
              "      <th>Price</th>\n",
              "      <th>Revenue</th>\n",
              "    </tr>\n",
              "  </thead>\n",
              "  <tbody>\n",
              "    <tr>\n",
              "      <th>4</th>\n",
              "      <td>360</td>\n",
              "      <td>3726.8</td>\n",
              "    </tr>\n",
              "  </tbody>\n",
              "</table>\n",
              "</div>"
            ],
            "text/plain": [
              "   Price  Revenue\n",
              "4    360   3726.8"
            ]
          },
          "metadata": {
            "tags": []
          },
          "execution_count": 13
        }
      ]
    }
  ]
}